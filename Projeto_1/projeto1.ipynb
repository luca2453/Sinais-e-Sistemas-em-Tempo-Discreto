{
 "cells": [
  {
   "cell_type": "code",
   "execution_count": 138,
   "metadata": {},
   "outputs": [],
   "source": [
    "import numpy as np\n",
    "import scipy as sp\n",
    "from scipy import interpolate\n",
    "import matplotlib.pyplot as plt\n",
    "from PIL import Image"
   ]
  },
  {
   "cell_type": "markdown",
   "metadata": {},
   "source": [
    "# Projeto 1 - Sinais e Sistemas em Tempo Discreto - 2023/01\n",
    "# Identificação\n",
    "## Nome: \n",
    "## Matrícula: "
   ]
  },
  {
   "cell_type": "markdown",
   "metadata": {},
   "source": [
    "# Questão 1"
   ]
  },
  {
   "cell_type": "markdown",
   "metadata": {},
   "source": [
    "## Questão 1a (0.5 pontos)\n",
    "\n",
    "O objetivo deste exercício é estudar a decimação e a interpolação de sinais. \n",
    "Escreva uma função em python que receba um sinal x[n] e retorne um sinal y[n] que seja a decimação por um fator de 2 do sinal de entrada x[n]. \n",
    "\n",
    "Em seguida, use a sua função para encontrar o sinal decimado para a entrada: \n",
    "\n",
    "$$ x = \\left[1, 2, 1, 0, 1, 2, 1, 0, 1, 2, 1, 0, 1, 2, 1, 0, 1, 2, 1, 0 \\right]$$"
   ]
  },
  {
   "cell_type": "code",
   "execution_count": 139,
   "metadata": {},
   "outputs": [
    {
     "name": "stdout",
     "output_type": "stream",
     "text": [
      "[1 1 1 1 1 1 1 1 1 1]\n",
      "10\n"
     ]
    }
   ],
   "source": [
    "### Código da questão 1a.\n",
    "\n",
    "def decimedSignal(signal, factor):\n",
    "    decimedList = []\n",
    "    \n",
    "    for i in range(len(signal) - 1):\n",
    "        if i%factor == 0:\n",
    "            decimedList.append(signal[i])\n",
    "    \n",
    "    return np.array(decimedList)\n",
    "\n",
    "x = np.array([1,2,10,0,1,2,10,0,1,2,10,0,1,2,10,0,1,2,10,0])\n",
    "y = np.array([1,2,1,0,1,2,1,0,1,2,1,0,1,2,1,0,1,2,1,0])\n",
    "\n",
    "print(decimedSignal(y,2))\n",
    "print(len(decimedSignal(y,2)))"
   ]
  },
  {
   "cell_type": "markdown",
   "metadata": {},
   "source": [
    "## Questão 1b (0.5 pontos)\n",
    "\n",
    "Escreva uma função em python que receba um sinal y[n] e retorne um sinal z[n] que seja a interpolação por um fator de 2 do sinal de entrada y[n]. A sua função deve aumentar o número de amostras e assinalar um novo valor para as amostras criadas. Você pode escolher se as amostras interpoladas terão o valor médio das amostras ou o valor da amostra anterior. \n",
    "\n",
    "Em seguida, utilize a sua função para encontrar o sinal interpolado para o sinal y[n] da questão anterior (1a).\n"
   ]
  },
  {
   "cell_type": "code",
   "execution_count": 140,
   "metadata": {},
   "outputs": [
    {
     "name": "stdout",
     "output_type": "stream",
     "text": [
      "[ 1  1 10 10  1  1 10 10  1  1 10 10  1  1 10 10  1  1 10 10]\n"
     ]
    }
   ],
   "source": [
    "### Código da questão 1b.\n",
    "\n",
    "def interpoledSignal(signal, factor):\n",
    "    interpoledList = []\n",
    "    \n",
    "    for i in range(len(signal)*2):\n",
    "        if i % factor == 0:\n",
    "            interpoledList.append(signal[i//factor])\n",
    "        else:\n",
    "            interpoledList.append(interpoledList[i-1])\n",
    "    \n",
    "    return np.array(interpoledList)\n",
    "\n",
    "print(interpoledSignal(decimedSignal(x,2),2))"
   ]
  },
  {
   "cell_type": "markdown",
   "metadata": {},
   "source": [
    "## Questão 1c (1 ponto)\n",
    "\n",
    "Uma imagem é um sinal discreto de duas dimensões. \n",
    "Escrevemos I(x,y) para representar esta imagem como uma matriz bidimensional de dimensões (w x h), onde w é a largura da imagem e h a sua altura.\n",
    "\n",
    "Para imagens, fazemos a decimação e a interpolação separadamente, para todas as linhas e, em seguida, para todas as colunas (ou vice-versa), considerando que cada linha ou coluna é um sinal de uma dimensão.\n",
    "\n",
    "Aplique o seu algoritmo de decimação sucessivamente até obter uma imagem com tamanho (w/16 x h/16), isto é, aplique o algoritmo 4 vezes seguidas, mostrando a imagem resultante."
   ]
  },
  {
   "cell_type": "code",
   "execution_count": 141,
   "metadata": {},
   "outputs": [
    {
     "name": "stdout",
     "output_type": "stream",
     "text": [
      "Tamanho: 32 x 32\n"
     ]
    },
    {
     "data": {
      "image/jpeg": "[encoded data removed]",
      "image/png": "[encoded data removed]",
      "text/plain": [
       "<PIL.Image.Image image mode=L size=32x32>"
      ]
     },
     "execution_count": 141,
     "metadata": {},
     "output_type": "execute_result"
    }
   ],
   "source": [
    "### Código da questão 1c.\n",
    "\n",
    "\n",
    "im = Image.open(\"lena.bmp\")\n",
    "imagearray = np.array(im)\n",
    "\n",
    "\n",
    "for _ in range(2): \n",
    "    imagearray = decimedSignal(imagearray,16)\n",
    "    imagearray =  imagearray.transpose()\n",
    "\n",
    "decimedImage = Image.fromarray(imagearray)\n",
    "\n",
    "h, w = imagearray.shape\n",
    "print(f'Tamanho: {h} x {w}')\n",
    "\n",
    "decimedImage\n"
   ]
  },
  {
   "cell_type": "markdown",
   "metadata": {},
   "source": [
    "## Questão 1d (1 ponto)\n",
    "\n",
    "Utilizando como entrada a imagem decimada (de tamanho w/16 x h/16) da questão anterior (1c), aplique o seu algoritmo de interpolação sucessivamente até obter uma imagem com tamanho (w x h), isto é, aplique o algoritmo 4 vezes seguidas, mostrando a imagem resultante. Compare a imagem original com a imagem que foi decimada/interpolada. "
   ]
  },
  {
   "cell_type": "code",
   "execution_count": 142,
   "metadata": {},
   "outputs": [
    {
     "name": "stdout",
     "output_type": "stream",
     "text": [
      "32\n",
      "Tamanho: 512 x 512\n"
     ]
    },
    {
     "data": {
      "image/jpeg": "[encoded data removed]",
      "image/png": "[encoded data removed]",
      "text/plain": [
       "<PIL.Image.Image image mode=L size=512x512>"
      ]
     },
     "execution_count": 142,
     "metadata": {},
     "output_type": "execute_result"
    }
   ],
   "source": [
    "### Código da questão 1d.\n",
    "\n",
    "imagearray = np.array(decimedImage)\n",
    "print(len(imagearray)) \n",
    "\n",
    "for _ in range(8):\n",
    "    imagearray = interpoledSignal(imagearray,2)\n",
    "    imagearray = imagearray.transpose()\n",
    "    \n",
    "interpoledImage = Image.fromarray(imagearray)\n",
    "\n",
    "h, w = imagearray.shape\n",
    "print(f'Tamanho: {h} x {w}')\n",
    "\n",
    "interpoledImage\n",
    "\n"
   ]
  },
  {
   "cell_type": "markdown",
   "metadata": {},
   "source": [
    "# Questão 2"
   ]
  },
  {
   "cell_type": "markdown",
   "metadata": {},
   "source": [
    "Considere o seguinte sistema LDIT:\n",
    "$$ y\\left[n+2\\right] + \\frac{1}{6}y\\left[n\\right] = x\\left[n+2\\right] + 2x\\left[n+1\\right]+x\\left[n\\right] $$\n",
    "$$ x\\left[n\\right] = \\left(\\frac{1}{4}\\right)^n u\\left[n\\right] $$\n",
    "$$ y\\left[-1\\right] = y\\left[-2\\right] = 0 $$"
   ]
  },
  {
   "cell_type": "markdown",
   "metadata": {},
   "source": [
    "## Questão 2a (1 ponto)\n",
    "\n",
    "Determine a resposta ao impulso h[n] analiticamente. Você pode inserir a sua resposta escaneada como uma imagem abaixo."
   ]
  },
  {
   "cell_type": "code",
   "execution_count": 143,
   "metadata": {},
   "outputs": [],
   "source": [
    "### Código da questão 2a."
   ]
  },
  {
   "cell_type": "markdown",
   "metadata": {},
   "source": [
    "## Questão 2b (1 ponto)\n",
    "Escreva um código para obter a resposta ao impulso h[n] iterativamente. Compare a resposta obtida iterativamente com a resposta analítica para as primeiras 100 amostras, plotando o gráfico das duas respostas.\n",
    "\n",
    "Calcule também o erro médio quadrático entre os dois sinais, h[n] analítico e g[n] iterativo, através da equação:\n",
    "\n",
    "$$ MSE = \\frac{1}{N} \\sum_{i=0}^{N-1} \\left( h\\left[i\\right] - g\\left[i\\right] \\right)^2 $$\n",
    "\n",
    "onde N é o número de amostras considerado (no caso, 100 amostras)."
   ]
  },
  {
   "cell_type": "code",
   "execution_count": 151,
   "metadata": {},
   "outputs": [
    {
     "data": {
      "text/plain": [
       "[<matplotlib.lines.Line2D at 0x1d44c507a90>]"
      ]
     },
     "execution_count": 151,
     "metadata": {},
     "output_type": "execute_result"
    },
    {
     "data": {
      "image/png": "[encoded data removed]",
      "text/plain": [
       "<Figure size 640x480 with 1 Axes>"
      ]
     },
     "metadata": {},
     "output_type": "display_data"
    }
   ],
   "source": [
    "### Código da questão 2b.\n",
    "\n",
    "plt.plot([1,2,1])"
   ]
  },
  {
   "cell_type": "markdown",
   "metadata": {},
   "source": [
    "## Questão 2c (1 ponto)\n",
    "\n",
    "Determine a resposta do sistema às condições iniciais dadas analiticamente. Você pode inserir a sua resposta escaneada como uma imagem abaixo."
   ]
  },
  {
   "cell_type": "code",
   "execution_count": 145,
   "metadata": {},
   "outputs": [],
   "source": [
    "### Código da questão 2c."
   ]
  },
  {
   "cell_type": "markdown",
   "metadata": {},
   "source": [
    "### Questão 2d (1 ponto)\n",
    "Escreva um programa para obter a resposta do sistema através da convolução da entrada com a resposta ao impulso h[n] truncada para as primeiras 20 amostras (isto é, considerando apenas as primeiras 20 amostras de h[n]).\n",
    "\n",
    "Compare a resposta obtida pela convolução com a resposta obtida analiticamente, plotando o gráfico das duas respostas (calcule as primeiras 100 amostras do sinal). Calcule também o erro médio quadrático entre os dois sinais."
   ]
  },
  {
   "cell_type": "code",
   "execution_count": 146,
   "metadata": {},
   "outputs": [],
   "source": [
    "### Código da questão 2d."
   ]
  },
  {
   "cell_type": "markdown",
   "metadata": {},
   "source": [
    "## Questão 2e (1 ponto)\n",
    "\n",
    "Usando como entrada o sinal disponibilizado ('data_projeto1.mat'), determine a resposta do sistema. Plote o gráfico da entrada e da saída do sistema. "
   ]
  },
  {
   "cell_type": "code",
   "execution_count": 147,
   "metadata": {},
   "outputs": [],
   "source": [
    "### Códgio da Questão 2e\n",
    "sinal = sp.io.loadmat('data_projeto1.mat')['sinal'].ravel()"
   ]
  },
  {
   "cell_type": "markdown",
   "metadata": {},
   "source": [
    "# Questão 3\n",
    "Considere o seguinte sistema LDIT:\n",
    "$$ y\\left[n+2\\right] -2~\\cos \\left( \\frac{\\pi}{8} \\right) y\\left[n+1\\right] + y\\left[n\\right] = x\\left[n\\right] $$"
   ]
  },
  {
   "cell_type": "markdown",
   "metadata": {},
   "source": [
    "## Questão 3a (1 ponto)\n",
    "Determine a resposta ao impulso h[n] analiticamente. Você pode inserir a sua resposta escaneada como uma imagem abaixo."
   ]
  },
  {
   "cell_type": "code",
   "execution_count": 148,
   "metadata": {},
   "outputs": [],
   "source": [
    "### Código da questão 3a    "
   ]
  },
  {
   "cell_type": "markdown",
   "metadata": {},
   "source": [
    "## Questão 3b (1 ponto)\n",
    "Escreva um programa para obter a resposta ao impulso h[n] iterativamente. Compare a resposta obtida com a resposta analítica, plotando o gráfico das duas respostas para as primeiras 100 amostras. Calcule também o erro médio quadrático entre os dois sinais."
   ]
  },
  {
   "cell_type": "code",
   "execution_count": 149,
   "metadata": {},
   "outputs": [],
   "source": [
    "### Código da questão 3b"
   ]
  }
 ],
 "metadata": {
  "kernelspec": {
   "display_name": "Python 3 (ipykernel)",
   "language": "python",
   "name": "python3"
  },
  "language_info": {
   "codemirror_mode": {
    "name": "ipython",
    "version": 3
   },
   "file_extension": ".py",
   "mimetype": "text/x-python",
   "name": "python",
   "nbconvert_exporter": "python",
   "pygments_lexer": "ipython3",
   "version": "3.10.4"
  },
  "vscode": {
   "interpreter": {
    "hash": "916dbcbb3f70747c44a77c7bcd40155683ae19c65e1c03b4aa3499c5328201f1"
   }
  }
 },
 "nbformat": 4,
 "nbformat_minor": 4
}
